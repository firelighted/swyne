{
 "cells": [
  {
   "cell_type": "code",
   "execution_count": 1,
   "metadata": {},
   "outputs": [],
   "source": [
    "import swyne\n",
    "import pyglet\n",
    "from pyglet.window import *"
   ]
  },
  {
   "cell_type": "code",
   "execution_count": 2,
   "metadata": {},
   "outputs": [],
   "source": [
    "global a\n",
    "a = False"
   ]
  },
  {
   "cell_type": "code",
   "execution_count": 3,
   "metadata": {},
   "outputs": [],
   "source": [
    "game_window = Window(800, 500)\n",
    "\n",
    "keys = key.KeyStateHandler()\n",
    "game_window.push_handlers(keys)"
   ]
  },
  {
   "cell_type": "code",
   "execution_count": 4,
   "metadata": {},
   "outputs": [
    {
     "name": "stdout",
     "output_type": "stream",
     "text": [
      "True\n",
      "False\n",
      "True\n",
      "False\n"
     ]
    }
   ],
   "source": [
    "txt = pyglet.text.Label(\"Hello world\")\n",
    "img = pyglet.resource.image(\"fractal.png\")\n",
    "sound = pyglet.resource.media(\"tap.wav\", streaming=False)\n",
    "\n",
    "@game_window.event\n",
    "def on_draw():\n",
    "    global a\n",
    "    game_window.clear()\n",
    "    if a:\n",
    "        txt.draw()\n",
    "    else:\n",
    "        img.blit(0,0)\n",
    "\n",
    "    \n",
    "@game_window.event\n",
    "def on_mouse_press(x, y, button, modifiers):\n",
    "    global a\n",
    "    if button == mouse.LEFT:\n",
    "        b = not a\n",
    "        a = b\n",
    "        sound.play()\n",
    "        print(a)\n",
    "\n",
    "@game_window.event\n",
    "def on_key_press(symbol, modifiers):\n",
    "    if symbol == key.A:\n",
    "        print(\"the 'a' key is pressed\")\n",
    "        \n",
    "        \n",
    "pyglet.app.run()"
   ]
  },
  {
   "cell_type": "code",
   "execution_count": null,
   "metadata": {},
   "outputs": [],
   "source": []
  }
 ],
 "metadata": {
  "kernelspec": {
   "display_name": "Python 3",
   "language": "python",
   "name": "python3"
  },
  "language_info": {
   "codemirror_mode": {
    "name": "ipython",
    "version": 3
   },
   "file_extension": ".py",
   "mimetype": "text/x-python",
   "name": "python",
   "nbconvert_exporter": "python",
   "pygments_lexer": "ipython3",
   "version": "3.6.8"
  }
 },
 "nbformat": 4,
 "nbformat_minor": 2
}
